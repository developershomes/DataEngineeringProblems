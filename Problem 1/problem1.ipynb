{
 "cells": [
  {
   "cell_type": "markdown",
   "id": "4328d022-1f8d-442f-921e-d16693058a4c",
   "metadata": {},
   "source": [
    "Here, we will solve problems two ways\n",
    "1. First using PySpark function \n",
    "2. Second using Spark SQL"
   ]
  },
  {
   "cell_type": "code",
   "execution_count": 1,
   "id": "6d4647c5-df06-4d53-b4b4-66677cc54ed1",
   "metadata": {},
   "outputs": [],
   "source": [
    "# First Load all the required library and also Start Spark Session\n",
    "# Load all the required library\n",
    "from pyspark.sql import SparkSession"
   ]
  },
  {
   "cell_type": "code",
   "execution_count": 2,
   "id": "c0fdceb9-20df-4588-8820-672d48778b09",
   "metadata": {},
   "outputs": [
    {
     "name": "stderr",
     "output_type": "stream",
     "text": [
      "WARNING: An illegal reflective access operation has occurred\n",
      "WARNING: Illegal reflective access by org.apache.spark.unsafe.Platform (file:/opt/spark/jars/spark-unsafe_2.12-3.2.1.jar) to constructor java.nio.DirectByteBuffer(long,int)\n",
      "WARNING: Please consider reporting this to the maintainers of org.apache.spark.unsafe.Platform\n",
      "WARNING: Use --illegal-access=warn to enable warnings of further illegal reflective access operations\n",
      "WARNING: All illegal access operations will be denied in a future release\n",
      "Using Spark's default log4j profile: org/apache/spark/log4j-defaults.properties\n",
      "Setting default log level to \"WARN\".\n",
      "To adjust logging level use sc.setLogLevel(newLevel). For SparkR, use setLogLevel(newLevel).\n",
      "23/02/03 10:13:11 WARN NativeCodeLoader: Unable to load native-hadoop library for your platform... using builtin-java classes where applicable\n"
     ]
    }
   ],
   "source": [
    "#Start Spark Session\n",
    "spark = SparkSession.builder.appName(\"problem1\").getOrCreate()\n",
    "sqlContext = SparkSession(spark)\n",
    "#Dont Show warning only error\n",
    "spark.sparkContext.setLogLevel(\"ERROR\")"
   ]
  },
  {
   "cell_type": "code",
   "execution_count": 17,
   "id": "d5ec58af-280e-4eef-a95e-308df1bcbf68",
   "metadata": {},
   "outputs": [],
   "source": [
    "#Load CSV file into DataFrame\n",
    "employeedf = spark.read.format(\"csv\").option(\"header\",\"true\").option(\"inferSchema\",\"true\").load(\"employee.csv\")"
   ]
  },
  {
   "cell_type": "code",
   "execution_count": 18,
   "id": "a6604a74-b1f5-49e5-a593-f35ca2417030",
   "metadata": {},
   "outputs": [
    {
     "name": "stdout",
     "output_type": "stream",
     "text": [
      "root\n",
      " |-- id: integer (nullable = true)\n",
      " |-- first_name: string (nullable = true)\n",
      " |-- last_name: string (nullable = true)\n",
      " |-- salary: integer (nullable = true)\n",
      " |-- department_id: integer (nullable = true)\n",
      "\n"
     ]
    }
   ],
   "source": [
    "#Check Schema of DataFrame\n",
    "employeedf.printSchema()"
   ]
  },
  {
   "cell_type": "code",
   "execution_count": 19,
   "id": "47481142-ee32-401e-a481-03b3dd5b80ba",
   "metadata": {},
   "outputs": [
    {
     "name": "stdout",
     "output_type": "stream",
     "text": [
      "+---+----------+---------+------+-------------+\n",
      "| id|first_name|last_name|salary|department_id|\n",
      "+---+----------+---------+------+-------------+\n",
      "|  1|      Todd|   Wilson|110000|         1006|\n",
      "|  1|      Todd|   Wilson|106119|         1006|\n",
      "|  2|    Justin|    Simon|128922|         1005|\n",
      "|  2|    Justin|    Simon|130000|         1005|\n",
      "|  3|     Kelly|  Rosario| 42689|         1002|\n",
      "|  4|  Patricia|   Powell|162825|         1004|\n",
      "|  4|  Patricia|   Powell|170000|         1004|\n",
      "|  5|    Sherry|   Golden| 44101|         1002|\n",
      "|  6|   Natasha|  Swanson| 79632|         1005|\n",
      "|  6|   Natasha|  Swanson| 90000|         1005|\n",
      "|  7|     Diane|   Gordon| 74591|         1002|\n",
      "|  8|  Mercedes|Rodriguez| 61048|         1005|\n",
      "|  9|   Christy| Mitchell|137236|         1001|\n",
      "|  9|   Christy| Mitchell|140000|         1001|\n",
      "|  9|   Christy| Mitchell|150000|         1001|\n",
      "| 10|      Sean| Crawford|182065|         1006|\n",
      "| 10|      Sean| Crawford|190000|         1006|\n",
      "| 11|     Kevin| Townsend|166861|         1002|\n",
      "| 12|    Joshua|  Johnson|123082|         1004|\n",
      "| 13|     Julie|  Sanchez|185663|         1001|\n",
      "+---+----------+---------+------+-------------+\n",
      "only showing top 20 rows\n",
      "\n"
     ]
    }
   ],
   "source": [
    "#Check sample Data \n",
    "employeedf.show()"
   ]
  },
  {
   "cell_type": "code",
   "execution_count": 20,
   "id": "c6b4f318-0d5f-4be1-b9df-7fe6b3b008dd",
   "metadata": {},
   "outputs": [
    {
     "data": {
      "text/plain": [
       "95"
      ]
     },
     "execution_count": 20,
     "metadata": {},
     "output_type": "execute_result"
    }
   ],
   "source": [
    "#Checking number of rows in dataframe\n",
    "employeedf.count()"
   ]
  },
  {
   "cell_type": "code",
   "execution_count": 28,
   "id": "8dc98254-6248-4cd6-af15-bb4b5a832171",
   "metadata": {},
   "outputs": [
    {
     "name": "stdout",
     "output_type": "stream",
     "text": [
      "+---+----------+---------+-------------+------+\n",
      "| id|first_name|last_name|department_id|salary|\n",
      "+---+----------+---------+-------------+------+\n",
      "|  1|      Todd|   Wilson|         1006|110000|\n",
      "|  1|      Todd|   Wilson|         1006|106119|\n",
      "|  2|    Justin|    Simon|         1005|128922|\n",
      "|  2|    Justin|    Simon|         1005|130000|\n",
      "|  3|     Kelly|  Rosario|         1002| 42689|\n",
      "|  4|  Patricia|   Powell|         1004|170000|\n",
      "|  4|  Patricia|   Powell|         1004|162825|\n",
      "|  5|    Sherry|   Golden|         1002| 44101|\n",
      "|  6|   Natasha|  Swanson|         1005| 79632|\n",
      "|  6|   Natasha|  Swanson|         1005| 90000|\n",
      "|  7|     Diane|   Gordon|         1002| 74591|\n",
      "|  8|  Mercedes|Rodriguez|         1005| 61048|\n",
      "|  9|   Christy| Mitchell|         1001|140000|\n",
      "|  9|   Christy| Mitchell|         1001|150000|\n",
      "|  9|   Christy| Mitchell|         1001|137236|\n",
      "| 10|      Sean| Crawford|         1006|182065|\n",
      "| 10|      Sean| Crawford|         1006|190000|\n",
      "| 11|     Kevin| Townsend|         1002|166861|\n",
      "| 12|    Joshua|  Johnson|         1004|123082|\n",
      "| 13|     Julie|  Sanchez|         1001|185663|\n",
      "+---+----------+---------+-------------+------+\n",
      "only showing top 20 rows\n",
      "\n"
     ]
    }
   ],
   "source": [
    "#Solving Problem using PySpark \n",
    "# 1. We need to print latest salary of each employee\n",
    "# 2. We also need their id, first name, lastname, department id and latest salary \n",
    "# 3. We also want to order by it by id \n",
    "\n",
    "# On a first step we are just getting all the columns and doing order by \n",
    "\n",
    "employeedf.select(\"id\",\"first_name\",\"last_name\",\"department_id\",\"salary\").orderBy(\"id\").show()\n"
   ]
  },
  {
   "cell_type": "code",
   "execution_count": 33,
   "id": "0e256a4b-450f-4846-ba97-1e51812d590e",
   "metadata": {},
   "outputs": [
    {
     "name": "stdout",
     "output_type": "stream",
     "text": [
      "+---+----------+---------+-------------+-----------+\n",
      "| id|first_name|last_name|department_id|max(salary)|\n",
      "+---+----------+---------+-------------+-----------+\n",
      "|  1|      Todd|   Wilson|         1006|     110000|\n",
      "|  2|    Justin|    Simon|         1005|     130000|\n",
      "|  3|     Kelly|  Rosario|         1002|      42689|\n",
      "|  4|  Patricia|   Powell|         1004|     170000|\n",
      "|  5|    Sherry|   Golden|         1002|      44101|\n",
      "|  6|   Natasha|  Swanson|         1005|      90000|\n",
      "|  7|     Diane|   Gordon|         1002|      74591|\n",
      "|  8|  Mercedes|Rodriguez|         1005|      61048|\n",
      "|  9|   Christy| Mitchell|         1001|     150000|\n",
      "| 10|      Sean| Crawford|         1006|     190000|\n",
      "| 11|     Kevin| Townsend|         1002|     166861|\n",
      "| 12|    Joshua|  Johnson|         1004|     123082|\n",
      "| 13|     Julie|  Sanchez|         1001|     210000|\n",
      "| 14|      John|  Coleman|         1001|     152434|\n",
      "| 15|   Anthony|   Valdez|         1001|      96898|\n",
      "| 16|    Briana|    Rivas|         1005|     151668|\n",
      "| 17|     Jason|  Burnett|         1006|      42525|\n",
      "| 18|   Jeffrey|   Harris|         1002|      20000|\n",
      "| 19|   Michael|   Ramsey|         1003|      63159|\n",
      "| 20|      Cody| Gonzalez|         1004|     112809|\n",
      "| 21|   Stephen|    Berry|         1002|     123617|\n",
      "| 22|  Brittany|    Scott|         1002|     162537|\n",
      "| 23|    Angela| Williams|         1004|     100875|\n",
      "| 24|   William|   Flores|         1003|     142674|\n",
      "| 25|    Pamela| Matthews|         1005|      57944|\n",
      "| 26|   Allison|  Johnson|         1001|     128782|\n",
      "| 27|   Anthony|     Ball|         1003|      34386|\n",
      "| 28|    Alexis|     Beck|         1005|      12260|\n",
      "| 29|     Jason|    Olsen|         1006|      51937|\n",
      "| 30|   Stephen|    Smith|         1001|     194791|\n",
      "| 31|  Kimberly|   Brooks|         1003|      95327|\n",
      "| 32|      Eric|Zimmerman|         1006|      83093|\n",
      "| 33|     Peter|     Holt|         1002|      69945|\n",
      "| 34|    Justin|     Dunn|         1003|      67992|\n",
      "| 35|      John|     Ball|         1004|      47795|\n",
      "| 36|     Jesus|     Ward|         1005|      36078|\n",
      "| 37|    Philip|Gillespie|         1006|      36424|\n",
      "| 38|    Nicole|    Lewis|         1001|     114079|\n",
      "| 39|     Linda|    Clark|         1002|     186781|\n",
      "| 40|   Colleen| Carrillo|         1004|     147723|\n",
      "| 41|      John|   George|         1001|      21642|\n",
      "| 42|     Traci| Williams|         1003|     180000|\n",
      "| 43|    Joseph|   Rogers|         1005|      22800|\n",
      "| 44|    Trevor|   Carter|         1001|      38670|\n",
      "| 45|     Kevin|   Duncan|         1003|      45210|\n",
      "| 46|    Joshua|    Ewing|         1003|      73088|\n",
      "| 47|  Kimberly|     Dean|         1003|      71416|\n",
      "| 48|    Robert|    Lynch|         1004|     117960|\n",
      "| 49|     Amber|  Harding|         1002|      77764|\n",
      "| 50|  Victoria|   Wilson|         1002|     176620|\n",
      "| 51|   Theresa|  Everett|         1002|      31404|\n",
      "| 52|      Kara|    Smith|         1004|     192838|\n",
      "| 53|    Teresa|    Cohen|         1001|      98860|\n",
      "| 54|    Wesley|   Tucker|         1005|      90221|\n",
      "| 55|   Michael|   Morris|         1005|     106799|\n",
      "| 56|   Rachael| Williams|         1002|     103585|\n",
      "| 57|  Patricia|   Harmon|         1005|     147417|\n",
      "| 58|    Edward|    Sharp|         1005|      41077|\n",
      "| 59|     Kevin| Robinson|         1005|     100924|\n",
      "| 60|   Charles|  Pearson|         1004|     173317|\n",
      "| 61|      Ryan|    Brown|         1003|     120000|\n",
      "| 62|      Dale|    Hayes|         1005|      97662|\n",
      "| 63|   Richard|  Sanford|         1001|     136083|\n",
      "| 64|  Danielle| Williams|         1006|     120000|\n",
      "| 65|   Deborah|   Martin|         1004|      67389|\n",
      "| 66|    Dustin|     Bush|         1004|      47567|\n",
      "| 67|     Tyler|    Green|         1002|     111085|\n",
      "| 68|   Antonio|Carpenter|         1002|      83684|\n",
      "| 69|    Ernest| Peterson|         1005|     115993|\n",
      "| 70|     Karen|Fernandez|         1003|     101238|\n",
      "| 71|  Kristine|    Casey|         1003|      67651|\n",
      "| 72| Christine|     Frye|         1004|     137244|\n",
      "| 73|   William|  Preston|         1003|     155225|\n",
      "| 74|   Richard|     Cole|         1003|     180361|\n",
      "| 75|     Julia|    Ramos|         1006|     105000|\n",
      "+---+----------+---------+-------------+-----------+\n",
      "\n"
     ]
    }
   ],
   "source": [
    "# Now we will use group by function and get max salary for each employee \n",
    "employeedf.groupBy(\"id\",\"first_name\",\"last_name\",\"department_id\").max(\"salary\").orderBy(\"id\").show(n=100)\n",
    "# We can also store result into dataframe\n",
    "finaldf = employeedf.groupBy(\"id\",\"first_name\",\"last_name\",\"department_id\").max(\"salary\").orderBy(\"id\")"
   ]
  },
  {
   "cell_type": "code",
   "execution_count": 34,
   "id": "bd049fee-18f9-48b0-a935-885614e744d3",
   "metadata": {},
   "outputs": [
    {
     "data": {
      "text/plain": [
       "75"
      ]
     },
     "execution_count": 34,
     "metadata": {},
     "output_type": "execute_result"
    }
   ],
   "source": [
    "# Final result into final dataframe\n",
    "finaldf.count()"
   ]
  },
  {
   "cell_type": "code",
   "execution_count": 35,
   "id": "c28f990b-7e88-4c88-bd36-ca17a83544c1",
   "metadata": {},
   "outputs": [],
   "source": [
    "# Now we are solving Same problem using Spark SQL \n",
    "# Creating Temp Table or HIVE table\n",
    "employeedf.createOrReplaceTempView(\"tmpEmployee\")"
   ]
  },
  {
   "cell_type": "code",
   "execution_count": 36,
   "id": "8a48a300-9f44-4321-a138-942e6f1daf2c",
   "metadata": {},
   "outputs": [
    {
     "name": "stdout",
     "output_type": "stream",
     "text": [
      "+---+----------+---------+------+-------------+\n",
      "| id|first_name|last_name|salary|department_id|\n",
      "+---+----------+---------+------+-------------+\n",
      "|  1|      Todd|   Wilson|110000|         1006|\n",
      "|  1|      Todd|   Wilson|106119|         1006|\n",
      "|  2|    Justin|    Simon|128922|         1005|\n",
      "|  2|    Justin|    Simon|130000|         1005|\n",
      "|  3|     Kelly|  Rosario| 42689|         1002|\n",
      "|  4|  Patricia|   Powell|162825|         1004|\n",
      "|  4|  Patricia|   Powell|170000|         1004|\n",
      "|  5|    Sherry|   Golden| 44101|         1002|\n",
      "|  6|   Natasha|  Swanson| 79632|         1005|\n",
      "|  6|   Natasha|  Swanson| 90000|         1005|\n",
      "|  7|     Diane|   Gordon| 74591|         1002|\n",
      "|  8|  Mercedes|Rodriguez| 61048|         1005|\n",
      "|  9|   Christy| Mitchell|137236|         1001|\n",
      "|  9|   Christy| Mitchell|140000|         1001|\n",
      "|  9|   Christy| Mitchell|150000|         1001|\n",
      "| 10|      Sean| Crawford|182065|         1006|\n",
      "| 10|      Sean| Crawford|190000|         1006|\n",
      "| 11|     Kevin| Townsend|166861|         1002|\n",
      "| 12|    Joshua|  Johnson|123082|         1004|\n",
      "| 13|     Julie|  Sanchez|185663|         1001|\n",
      "+---+----------+---------+------+-------------+\n",
      "only showing top 20 rows\n",
      "\n"
     ]
    }
   ],
   "source": [
    "# Now we have SQL Table and we can write SQL Query on top of that \n",
    "# For example by Select on table \n",
    "sqlContext.sql(\"SELECT * FROM tmpEmployee\").show()"
   ]
  },
  {
   "cell_type": "code",
   "execution_count": 38,
   "id": "33554293-3ecb-4c46-8991-be98b4c3ea24",
   "metadata": {},
   "outputs": [
    {
     "name": "stdout",
     "output_type": "stream",
     "text": [
      "+---+----------+---------+-----------+-------------+\n",
      "| id|first_name|last_name|LatesSalary|department_id|\n",
      "+---+----------+---------+-----------+-------------+\n",
      "|  1|      Todd|   Wilson|     110000|         1006|\n",
      "|  2|    Justin|    Simon|     130000|         1005|\n",
      "|  3|     Kelly|  Rosario|      42689|         1002|\n",
      "|  4|  Patricia|   Powell|     170000|         1004|\n",
      "|  5|    Sherry|   Golden|      44101|         1002|\n",
      "|  6|   Natasha|  Swanson|      90000|         1005|\n",
      "|  7|     Diane|   Gordon|      74591|         1002|\n",
      "|  8|  Mercedes|Rodriguez|      61048|         1005|\n",
      "|  9|   Christy| Mitchell|     150000|         1001|\n",
      "| 10|      Sean| Crawford|     190000|         1006|\n",
      "| 11|     Kevin| Townsend|     166861|         1002|\n",
      "| 12|    Joshua|  Johnson|     123082|         1004|\n",
      "| 13|     Julie|  Sanchez|     210000|         1001|\n",
      "| 14|      John|  Coleman|     152434|         1001|\n",
      "| 15|   Anthony|   Valdez|      96898|         1001|\n",
      "| 16|    Briana|    Rivas|     151668|         1005|\n",
      "| 17|     Jason|  Burnett|      42525|         1006|\n",
      "| 18|   Jeffrey|   Harris|      20000|         1002|\n",
      "| 19|   Michael|   Ramsey|      63159|         1003|\n",
      "| 20|      Cody| Gonzalez|     112809|         1004|\n",
      "| 21|   Stephen|    Berry|     123617|         1002|\n",
      "| 22|  Brittany|    Scott|     162537|         1002|\n",
      "| 23|    Angela| Williams|     100875|         1004|\n",
      "| 24|   William|   Flores|     142674|         1003|\n",
      "| 25|    Pamela| Matthews|      57944|         1005|\n",
      "| 26|   Allison|  Johnson|     128782|         1001|\n",
      "| 27|   Anthony|     Ball|      34386|         1003|\n",
      "| 28|    Alexis|     Beck|      12260|         1005|\n",
      "| 29|     Jason|    Olsen|      51937|         1006|\n",
      "| 30|   Stephen|    Smith|     194791|         1001|\n",
      "| 31|  Kimberly|   Brooks|      95327|         1003|\n",
      "| 32|      Eric|Zimmerman|      83093|         1006|\n",
      "| 33|     Peter|     Holt|      69945|         1002|\n",
      "| 34|    Justin|     Dunn|      67992|         1003|\n",
      "| 35|      John|     Ball|      47795|         1004|\n",
      "| 36|     Jesus|     Ward|      36078|         1005|\n",
      "| 37|    Philip|Gillespie|      36424|         1006|\n",
      "| 38|    Nicole|    Lewis|     114079|         1001|\n",
      "| 39|     Linda|    Clark|     186781|         1002|\n",
      "| 40|   Colleen| Carrillo|     147723|         1004|\n",
      "| 41|      John|   George|      21642|         1001|\n",
      "| 42|     Traci| Williams|     180000|         1003|\n",
      "| 43|    Joseph|   Rogers|      22800|         1005|\n",
      "| 44|    Trevor|   Carter|      38670|         1001|\n",
      "| 45|     Kevin|   Duncan|      45210|         1003|\n",
      "| 46|    Joshua|    Ewing|      73088|         1003|\n",
      "| 47|  Kimberly|     Dean|      71416|         1003|\n",
      "| 48|    Robert|    Lynch|     117960|         1004|\n",
      "| 49|     Amber|  Harding|      77764|         1002|\n",
      "| 50|  Victoria|   Wilson|     176620|         1002|\n",
      "| 51|   Theresa|  Everett|      31404|         1002|\n",
      "| 52|      Kara|    Smith|     192838|         1004|\n",
      "| 53|    Teresa|    Cohen|      98860|         1001|\n",
      "| 54|    Wesley|   Tucker|      90221|         1005|\n",
      "| 55|   Michael|   Morris|     106799|         1005|\n",
      "| 56|   Rachael| Williams|     103585|         1002|\n",
      "| 57|  Patricia|   Harmon|     147417|         1005|\n",
      "| 58|    Edward|    Sharp|      41077|         1005|\n",
      "| 59|     Kevin| Robinson|     100924|         1005|\n",
      "| 60|   Charles|  Pearson|     173317|         1004|\n",
      "| 61|      Ryan|    Brown|     120000|         1003|\n",
      "| 62|      Dale|    Hayes|      97662|         1005|\n",
      "| 63|   Richard|  Sanford|     136083|         1001|\n",
      "| 64|  Danielle| Williams|     120000|         1006|\n",
      "| 65|   Deborah|   Martin|      67389|         1004|\n",
      "| 66|    Dustin|     Bush|      47567|         1004|\n",
      "| 67|     Tyler|    Green|     111085|         1002|\n",
      "| 68|   Antonio|Carpenter|      83684|         1002|\n",
      "| 69|    Ernest| Peterson|     115993|         1005|\n",
      "| 70|     Karen|Fernandez|     101238|         1003|\n",
      "| 71|  Kristine|    Casey|      67651|         1003|\n",
      "| 72| Christine|     Frye|     137244|         1004|\n",
      "| 73|   William|  Preston|     155225|         1003|\n",
      "| 74|   Richard|     Cole|     180361|         1003|\n",
      "| 75|     Julia|    Ramos|     105000|         1006|\n",
      "+---+----------+---------+-----------+-------------+\n",
      "\n"
     ]
    }
   ],
   "source": [
    "# Now we will write query to get max salary for each employee \n",
    "# so we will use SQL Group by and SQL Order by functions \n",
    "sqlContext.sql(\"SELECT id,first_name,last_name,MAX(salary) AS LatesSalary,department_id \\\n",
    "                       FROM tmpEmployee \\\n",
    "                       GROUP BY id,first_name,last_name,department_id \\\n",
    "                       ORDER BY id\").show(n=100)"
   ]
  }
 ],
 "metadata": {
  "kernelspec": {
   "display_name": "Python 3 (ipykernel)",
   "language": "python",
   "name": "python3"
  },
  "language_info": {
   "codemirror_mode": {
    "name": "ipython",
    "version": 3
   },
   "file_extension": ".py",
   "mimetype": "text/x-python",
   "name": "python",
   "nbconvert_exporter": "python",
   "pygments_lexer": "ipython3",
   "version": "3.8.13"
  }
 },
 "nbformat": 4,
 "nbformat_minor": 5
}
