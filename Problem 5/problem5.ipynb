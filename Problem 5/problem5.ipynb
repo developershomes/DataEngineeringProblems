{
 "cells": [
  {
   "cell_type": "markdown",
   "id": "4328d022-1f8d-442f-921e-d16693058a4c",
   "metadata": {},
   "source": [
    "Here, we will solve problems two ways\n",
    "1. First using PySpark function \n",
    "2. Second using Spark SQL"
   ]
  },
  {
   "cell_type": "code",
   "execution_count": 1,
   "id": "6d4647c5-df06-4d53-b4b4-66677cc54ed1",
   "metadata": {},
   "outputs": [],
   "source": [
    "# First Load all the required library and also Start Spark Session\n",
    "# Load all the required library\n",
    "from pyspark.sql import SparkSession"
   ]
  },
  {
   "cell_type": "code",
   "execution_count": 2,
   "id": "c0fdceb9-20df-4588-8820-672d48778b09",
   "metadata": {},
   "outputs": [
    {
     "name": "stderr",
     "output_type": "stream",
     "text": [
      "WARNING: An illegal reflective access operation has occurred\n",
      "WARNING: Illegal reflective access by org.apache.spark.unsafe.Platform (file:/opt/spark/jars/spark-unsafe_2.12-3.2.1.jar) to constructor java.nio.DirectByteBuffer(long,int)\n",
      "WARNING: Please consider reporting this to the maintainers of org.apache.spark.unsafe.Platform\n",
      "WARNING: Use --illegal-access=warn to enable warnings of further illegal reflective access operations\n",
      "WARNING: All illegal access operations will be denied in a future release\n",
      "Using Spark's default log4j profile: org/apache/spark/log4j-defaults.properties\n",
      "Setting default log level to \"WARN\".\n",
      "To adjust logging level use sc.setLogLevel(newLevel). For SparkR, use setLogLevel(newLevel).\n",
      "23/02/09 11:10:57 WARN NativeCodeLoader: Unable to load native-hadoop library for your platform... using builtin-java classes where applicable\n"
     ]
    }
   ],
   "source": [
    "#Start Spark Session\n",
    "spark = SparkSession.builder.appName(\"problem5\").getOrCreate()\n",
    "sqlContext = SparkSession(spark)\n",
    "#Dont Show warning only error\n",
    "spark.sparkContext.setLogLevel(\"ERROR\")"
   ]
  },
  {
   "cell_type": "code",
   "execution_count": 3,
   "id": "d5ec58af-280e-4eef-a95e-308df1bcbf68",
   "metadata": {},
   "outputs": [
    {
     "name": "stderr",
     "output_type": "stream",
     "text": [
      "                                                                                \r"
     ]
    }
   ],
   "source": [
    "#Load CSV file into DataFrame\n",
    "stationdf = spark.read.format(\"csv\").option(\"header\",\"true\").option(\"inferSchema\",\"true\").load(\"station.csv\")"
   ]
  },
  {
   "cell_type": "code",
   "execution_count": 4,
   "id": "a6604a74-b1f5-49e5-a593-f35ca2417030",
   "metadata": {},
   "outputs": [
    {
     "name": "stdout",
     "output_type": "stream",
     "text": [
      "root\n",
      " |-- ID: integer (nullable = true)\n",
      " |-- City: string (nullable = true)\n",
      " |-- State: string (nullable = true)\n",
      " |-- Lattitude: double (nullable = true)\n",
      " |-- Longitude: double (nullable = true)\n",
      "\n"
     ]
    }
   ],
   "source": [
    "#Check Schema of DataFrame\n",
    "stationdf.printSchema()"
   ]
  },
  {
   "cell_type": "code",
   "execution_count": 5,
   "id": "47481142-ee32-401e-a481-03b3dd5b80ba",
   "metadata": {},
   "outputs": [
    {
     "name": "stdout",
     "output_type": "stream",
     "text": [
      "+---+-----------+-----+-----------+-----------+\n",
      "| ID|       City|State|  Lattitude|  Longitude|\n",
      "+---+-----------+-----+-----------+-----------+\n",
      "|478|     Tipton|   IN|33.54792701|97.94286036|\n",
      "|619|  Arlington|   CO|75.17993079|92.94615894|\n",
      "|711|     Turner|   AR|50.24380534|101.4580163|\n",
      "|839|    Slidell|   LA|85.32270304|151.8743276|\n",
      "|411|    Negreet|   LA| 98.9707194|105.3376115|\n",
      "|588|    Glencoe|   KY|46.38739244|136.0427027|\n",
      "|665|    Chelsea|   IA|98.72210937|59.68913002|\n",
      "|733|Pelahatchie|   MS|38.58161595|28.11950703|\n",
      "|811|   Dorrance|   KS|102.0888316|121.5614372|\n",
      "|698|     Albany|   CA|49.75112765|80.21211317|\n",
      "|325|   Monument|   KS|70.52300953|141.7680413|\n",
      "|414| Manchester|   MD|73.51580724|37.14602869|\n",
      "|113|   Prescott|   IA|39.93234421|65.79327823|\n",
      "|971|Graettinger|   IA|94.66283665|150.3826243|\n",
      "|266|     Cahone|   CO|116.2321963| 127.009554|\n",
      "|617|    Sturgis|   MS|36.45673517|126.1690696|\n",
      "|495|    Upperco|   MD|114.2157413|29.63104758|\n",
      "|473|   Highwood|   IL|27.25445814|150.9227402|\n",
      "|959|    Waipahu|   HI|106.4460526|33.91451792|\n",
      "|438|     Bowdon|   GA|88.98111013|78.49025241|\n",
      "+---+-----------+-----+-----------+-----------+\n",
      "only showing top 20 rows\n",
      "\n"
     ]
    }
   ],
   "source": [
    "#Check sample Data \n",
    "stationdf.show()"
   ]
  },
  {
   "cell_type": "code",
   "execution_count": 17,
   "id": "8dc98254-6248-4cd6-af15-bb4b5a832171",
   "metadata": {},
   "outputs": [
    {
     "name": "stdout",
     "output_type": "stream",
     "text": [
      "+-------------+\n",
      "|         City|\n",
      "+-------------+\n",
      "|    Arlington|\n",
      "|       Albany|\n",
      "|      Upperco|\n",
      "|      Aguanga|\n",
      "|         Odin|\n",
      "|      Algonac|\n",
      "|       Onaway|\n",
      "|    Irvington|\n",
      "|   Arrowsmith|\n",
      "|        Udall|\n",
      "|     Oakfield|\n",
      "|       Elkton|\n",
      "|          Amo|\n",
      "|      Alanson|\n",
      "|       Eleele|\n",
      "|       Auburn|\n",
      "|       Oconee|\n",
      "|     Amazonia|\n",
      "|Andersonville|\n",
      "|         Eros|\n",
      "|  Arkadelphia|\n",
      "|      Eriline|\n",
      "|    Edgewater|\n",
      "|     Eastlake|\n",
      "|      Addison|\n",
      "|      Everton|\n",
      "|       Eustis|\n",
      "|       Arispe|\n",
      "|    Ottertail|\n",
      "|       Ermine|\n",
      "|       Albion|\n",
      "|       Athens|\n",
      "|      Eufaula|\n",
      "|      Andover|\n",
      "|      Osborne|\n",
      "|      Oshtemo|\n",
      "+-------------+\n",
      "\n"
     ]
    }
   ],
   "source": [
    "#Solving Problem using PySpark \n",
    "# ind the difference between the total number of CITY entries in the table and the number of distinct CITY entries in the table. \n",
    "stationdf.select(\"City\").where(\"Left(City,1) IN ('A','E','I','O','U')\").show(n=100)"
   ]
  },
  {
   "cell_type": "code",
   "execution_count": 6,
   "id": "c28f990b-7e88-4c88-bd36-ca17a83544c1",
   "metadata": {},
   "outputs": [],
   "source": [
    "# Now we are solving Same problem using Spark SQL \n",
    "# Creating Temp Table or HIVE table\n",
    "stationdf.createOrReplaceTempView(\"tmpStation\")"
   ]
  },
  {
   "cell_type": "code",
   "execution_count": 7,
   "id": "8a48a300-9f44-4321-a138-942e6f1daf2c",
   "metadata": {},
   "outputs": [
    {
     "name": "stdout",
     "output_type": "stream",
     "text": [
      "+---+-----------+-----+-----------+-----------+\n",
      "| ID|       City|State|  Lattitude|  Longitude|\n",
      "+---+-----------+-----+-----------+-----------+\n",
      "|478|     Tipton|   IN|33.54792701|97.94286036|\n",
      "|619|  Arlington|   CO|75.17993079|92.94615894|\n",
      "|711|     Turner|   AR|50.24380534|101.4580163|\n",
      "|839|    Slidell|   LA|85.32270304|151.8743276|\n",
      "|411|    Negreet|   LA| 98.9707194|105.3376115|\n",
      "|588|    Glencoe|   KY|46.38739244|136.0427027|\n",
      "|665|    Chelsea|   IA|98.72210937|59.68913002|\n",
      "|733|Pelahatchie|   MS|38.58161595|28.11950703|\n",
      "|811|   Dorrance|   KS|102.0888316|121.5614372|\n",
      "|698|     Albany|   CA|49.75112765|80.21211317|\n",
      "|325|   Monument|   KS|70.52300953|141.7680413|\n",
      "|414| Manchester|   MD|73.51580724|37.14602869|\n",
      "|113|   Prescott|   IA|39.93234421|65.79327823|\n",
      "|971|Graettinger|   IA|94.66283665|150.3826243|\n",
      "|266|     Cahone|   CO|116.2321963| 127.009554|\n",
      "|617|    Sturgis|   MS|36.45673517|126.1690696|\n",
      "|495|    Upperco|   MD|114.2157413|29.63104758|\n",
      "|473|   Highwood|   IL|27.25445814|150.9227402|\n",
      "|959|    Waipahu|   HI|106.4460526|33.91451792|\n",
      "|438|     Bowdon|   GA|88.98111013|78.49025241|\n",
      "+---+-----------+-----+-----------+-----------+\n",
      "only showing top 20 rows\n",
      "\n"
     ]
    }
   ],
   "source": [
    "# Now we have SQL Table and we can write SQL Query on top of that \n",
    "# For example by Select on table \n",
    "sqlContext.sql(\"SELECT * FROM tmpStation\").show()"
   ]
  },
  {
   "cell_type": "code",
   "execution_count": 9,
   "id": "33554293-3ecb-4c46-8991-be98b4c3ea24",
   "metadata": {},
   "outputs": [
    {
     "name": "stdout",
     "output_type": "stream",
     "text": [
      "+-------------+\n",
      "|         CITY|\n",
      "+-------------+\n",
      "|       Auburn|\n",
      "|Andersonville|\n",
      "|     Eastlake|\n",
      "|       Albany|\n",
      "|      Aguanga|\n",
      "|       Onaway|\n",
      "|      Andover|\n",
      "|      Algonac|\n",
      "|     Amazonia|\n",
      "|  Arkadelphia|\n",
      "|       Arispe|\n",
      "|       Eustis|\n",
      "|        Udall|\n",
      "|       Athens|\n",
      "|    Ottertail|\n",
      "|      Upperco|\n",
      "|       Ermine|\n",
      "|      Eufaula|\n",
      "|      Alanson|\n",
      "|    Arlington|\n",
      "|   Arrowsmith|\n",
      "|      Oshtemo|\n",
      "|    Irvington|\n",
      "|       Elkton|\n",
      "|       Eleele|\n",
      "|       Oconee|\n",
      "|     Oakfield|\n",
      "|          Amo|\n",
      "|      Addison|\n",
      "|       Albion|\n",
      "|      Everton|\n",
      "|      Osborne|\n",
      "|      Eriline|\n",
      "|    Edgewater|\n",
      "|         Eros|\n",
      "|         Odin|\n",
      "+-------------+\n",
      "\n"
     ]
    }
   ],
   "source": [
    "# Now we will write query to get max salary for each employee \n",
    "# so we will use SQL Group by and SQL Order by functions \n",
    "sqlContext.sql(\"SELECT DISTINCT(CITY) FROM tmpStation WHERE LEFT(CITY,1) IN ('A','E','I','O','U')\").show(n=100)"
   ]
  }
 ],
 "metadata": {
  "kernelspec": {
   "display_name": "Python 3 (ipykernel)",
   "language": "python",
   "name": "python3"
  },
  "language_info": {
   "codemirror_mode": {
    "name": "ipython",
    "version": 3
   },
   "file_extension": ".py",
   "mimetype": "text/x-python",
   "name": "python",
   "nbconvert_exporter": "python",
   "pygments_lexer": "ipython3",
   "version": "3.8.13"
  }
 },
 "nbformat": 4,
 "nbformat_minor": 5
}
