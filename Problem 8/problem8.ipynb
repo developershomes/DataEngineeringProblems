{
 "cells": [
  {
   "cell_type": "markdown",
   "id": "4328d022-1f8d-442f-921e-d16693058a4c",
   "metadata": {},
   "source": [
    "Here, we will solve problems two ways\n",
    "1. First using PySpark function \n",
    "2. Second using Spark SQL"
   ]
  },
  {
   "cell_type": "code",
   "execution_count": 1,
   "id": "6d4647c5-df06-4d53-b4b4-66677cc54ed1",
   "metadata": {},
   "outputs": [],
   "source": [
    "# First Load all the required library and also Start Spark Session\n",
    "# Load all the required library\n",
    "from pyspark.sql import SparkSession"
   ]
  },
  {
   "cell_type": "code",
   "execution_count": 2,
   "id": "c0fdceb9-20df-4588-8820-672d48778b09",
   "metadata": {},
   "outputs": [
    {
     "name": "stderr",
     "output_type": "stream",
     "text": [
      "WARNING: An illegal reflective access operation has occurred\n",
      "WARNING: Illegal reflective access by org.apache.spark.unsafe.Platform (file:/opt/spark/jars/spark-unsafe_2.12-3.2.1.jar) to constructor java.nio.DirectByteBuffer(long,int)\n",
      "WARNING: Please consider reporting this to the maintainers of org.apache.spark.unsafe.Platform\n",
      "WARNING: Use --illegal-access=warn to enable warnings of further illegal reflective access operations\n",
      "WARNING: All illegal access operations will be denied in a future release\n",
      "Using Spark's default log4j profile: org/apache/spark/log4j-defaults.properties\n",
      "Setting default log level to \"WARN\".\n",
      "To adjust logging level use sc.setLogLevel(newLevel). For SparkR, use setLogLevel(newLevel).\n",
      "23/02/23 22:25:39 WARN NativeCodeLoader: Unable to load native-hadoop library for your platform... using builtin-java classes where applicable\n",
      "23/02/23 22:25:40 WARN Utils: Service 'SparkUI' could not bind on port 4040. Attempting port 4041.\n",
      "23/02/23 22:25:40 WARN Utils: Service 'SparkUI' could not bind on port 4041. Attempting port 4042.\n"
     ]
    }
   ],
   "source": [
    "#Start Spark Session\n",
    "spark = SparkSession.builder.appName(\"problem8\").getOrCreate()\n",
    "sqlContext = SparkSession(spark)\n",
    "#Dont Show warning only error\n",
    "spark.sparkContext.setLogLevel(\"ERROR\")"
   ]
  },
  {
   "cell_type": "code",
   "execution_count": 3,
   "id": "d5ec58af-280e-4eef-a95e-308df1bcbf68",
   "metadata": {},
   "outputs": [
    {
     "name": "stderr",
     "output_type": "stream",
     "text": [
      "                                                                                \r"
     ]
    }
   ],
   "source": [
    "#Load CSV file into DataFrame\n",
    "ridelogdf = spark.read.format(\"csv\").option(\"header\",\"true\").option(\"inferSchema\",\"true\").load(\"ride_log.csv\")"
   ]
  },
  {
   "cell_type": "code",
   "execution_count": 4,
   "id": "a6604a74-b1f5-49e5-a593-f35ca2417030",
   "metadata": {},
   "outputs": [
    {
     "name": "stdout",
     "output_type": "stream",
     "text": [
      "root\n",
      " |-- id: integer (nullable = true)\n",
      " |-- user_id: integer (nullable = true)\n",
      " |-- distance: integer (nullable = true)\n",
      "\n"
     ]
    }
   ],
   "source": [
    "#Check Schema of DataFrame\n",
    "ridelogdf.printSchema()"
   ]
  },
  {
   "cell_type": "code",
   "execution_count": 5,
   "id": "693b0edd-852f-46de-b983-81357b95ad36",
   "metadata": {},
   "outputs": [],
   "source": [
    "#Load CSV file into DataFrame\n",
    "userdf = spark.read.format(\"csv\").option(\"header\",\"true\").option(\"inferSchema\",\"true\").load(\"user.csv\")"
   ]
  },
  {
   "cell_type": "code",
   "execution_count": 6,
   "id": "e9d65b9d-fe5a-4ed3-91b4-c9246551cce9",
   "metadata": {},
   "outputs": [
    {
     "name": "stdout",
     "output_type": "stream",
     "text": [
      "root\n",
      " |-- id: integer (nullable = true)\n",
      " |-- name: string (nullable = true)\n",
      "\n"
     ]
    }
   ],
   "source": [
    "#Check Schema of DataFrame\n",
    "userdf.printSchema()"
   ]
  },
  {
   "cell_type": "code",
   "execution_count": 10,
   "id": "c28f990b-7e88-4c88-bd36-ca17a83544c1",
   "metadata": {},
   "outputs": [],
   "source": [
    "# Now we are solving Same problem using Spark SQL \n",
    "# Creating Temp Table or HIVE table\n",
    "ridelogdf.createOrReplaceTempView(\"tmpRidelog\")\n",
    "userdf.createOrReplaceTempView(\"tmpUser\")"
   ]
  },
  {
   "cell_type": "code",
   "execution_count": 11,
   "id": "e55eb16a-fb5c-42b6-9f7c-feb1ff9c2945",
   "metadata": {},
   "outputs": [
    {
     "name": "stdout",
     "output_type": "stream",
     "text": [
      "+---+-------+--------+\n",
      "| id|user_id|distance|\n",
      "+---+-------+--------+\n",
      "|101|      8|      93|\n",
      "|102|     40|      56|\n",
      "|103|     28|      83|\n",
      "|104|     33|      83|\n",
      "|105|      1|      87|\n",
      "|106|     32|      49|\n",
      "|107|      3|       5|\n",
      "|108|     23|      37|\n",
      "|109|     31|      62|\n",
      "|110|      1|      35|\n",
      "|111|     41|      89|\n",
      "|112|     19|      64|\n",
      "|113|     49|      57|\n",
      "|114|     28|      68|\n",
      "|115|     48|      94|\n",
      "|116|     50|      89|\n",
      "|117|     48|      29|\n",
      "|118|     13|      16|\n",
      "|119|     24|      58|\n",
      "|120|     25|      19|\n",
      "+---+-------+--------+\n",
      "only showing top 20 rows\n",
      "\n"
     ]
    }
   ],
   "source": [
    "sqlContext.sql(\"SELECT * FROM tmpRidelog\").show()"
   ]
  },
  {
   "cell_type": "code",
   "execution_count": 12,
   "id": "845b2bd0-a09a-45ca-84f4-0e3593ad9026",
   "metadata": {},
   "outputs": [
    {
     "name": "stdout",
     "output_type": "stream",
     "text": [
      "+---+-------------------+\n",
      "| id|               name|\n",
      "+---+-------------------+\n",
      "|  1|       Dustin Smith|\n",
      "|  2|        Jay Ramirez|\n",
      "|  3|       Joseph Cooke|\n",
      "|  4|      Melinda Young|\n",
      "|  5|        Sean Parker|\n",
      "|  6|         Ian Foster|\n",
      "|  7|Christopher Schmitt|\n",
      "|  8|  Patrick Gutierrez|\n",
      "|  9|     Dennis Douglas|\n",
      "| 10|      Brenda Morris|\n",
      "| 11|  Jeffery Hernandez|\n",
      "| 12|         David Rice|\n",
      "| 13|     Charles Foster|\n",
      "| 14|    Keith Perez DVM|\n",
      "| 15|        Dean Cuevas|\n",
      "| 16|     Melissa Bishop|\n",
      "| 17|   Alexander Howell|\n",
      "| 18|   Austin Robertson|\n",
      "| 19|    Sherri Mcdaniel|\n",
      "| 20|       Nancy Nguyen|\n",
      "+---+-------------------+\n",
      "only showing top 20 rows\n",
      "\n"
     ]
    }
   ],
   "source": [
    "sqlContext.sql(\"SELECT * FROM tmpUser\").show()"
   ]
  },
  {
   "cell_type": "code",
   "execution_count": 32,
   "id": "d4a77a98-b4e8-4c5d-bb66-c8d1d17bc95e",
   "metadata": {},
   "outputs": [
    {
     "name": "stdout",
     "output_type": "stream",
     "text": [
      "+-------+-------------------+-----+----------+\n",
      "|user_id|               name|total|actualrank|\n",
      "+-------+-------------------+-----+----------+\n",
      "|      3|       Joseph Cooke|    5|         1|\n",
      "|     45|   Benjamin Mcbride|   11|         2|\n",
      "|     13|     Charles Foster|   16|         3|\n",
      "|     18|   Austin Robertson|   27|         4|\n",
      "|     36|        Alyssa Shaw|   28|         5|\n",
      "|     37|      Destiny Clark|   48|         6|\n",
      "|     40|       Stacy Bryant|   56|         7|\n",
      "|     19|    Sherri Mcdaniel|   64|         8|\n",
      "|     23|    Joseph Hamilton|   79|         9|\n",
      "|     21|        Melody Ball|   81|        10|\n",
      "|     39|          Mark Diaz|   81|        10|\n",
      "|     38|        Thomas Lara|   82|        12|\n",
      "|     33|        Donna Ortiz|   83|        13|\n",
      "|     31|      Shannon Green|   86|        14|\n",
      "|     41|        Howard Rose|   89|        15|\n",
      "|     10|      Brenda Morris|   90|        16|\n",
      "|     27|   Jacqueline Heath|   91|        17|\n",
      "|      5|        Sean Parker|   92|        18|\n",
      "|      7|Christopher Schmitt|   96|        19|\n",
      "|     46|     Elizabeth Ward|  108|        20|\n",
      "+-------+-------------------+-----+----------+\n",
      "only showing top 20 rows\n",
      "\n"
     ]
    }
   ],
   "source": [
    "sqlContext.sql(\"SELECT user_id \\\n",
    "                      , name \\\n",
    "                      , sum(distance) as total\\\n",
    "                      , RANK() OVER (ORDER BY sum(distance)) as actualrank \\\n",
    "                FROM tmpRidelog as log \\\n",
    "                LEFT OUTER JOIN tmpUser as users \\\n",
    "                ON log.user_id = users.id \\\n",
    "                GROUP BY user_id, name\").show()"
   ]
  },
  {
   "cell_type": "code",
   "execution_count": 27,
   "id": "b3654e1a-6d81-418c-b16c-c605d480fde9",
   "metadata": {},
   "outputs": [
    {
     "name": "stdout",
     "output_type": "stream",
     "text": [
      "+-------+----------------+-----+\n",
      "|user_id|            name|total|\n",
      "+-------+----------------+-----+\n",
      "|      3|    Joseph Cooke|    5|\n",
      "|     45|Benjamin Mcbride|   11|\n",
      "|     13|  Charles Foster|   16|\n",
      "|     18|Austin Robertson|   27|\n",
      "|     36|     Alyssa Shaw|   28|\n",
      "|     37|   Destiny Clark|   48|\n",
      "|     40|    Stacy Bryant|   56|\n",
      "|     19| Sherri Mcdaniel|   64|\n",
      "|     23| Joseph Hamilton|   79|\n",
      "|     39|       Mark Diaz|   81|\n",
      "|     21|     Melody Ball|   81|\n",
      "+-------+----------------+-----+\n",
      "\n"
     ]
    }
   ],
   "source": [
    "sqlContext.sql(\"SELECT q.user_id, q.name, q.total \\\n",
    "                FROM  \\\n",
    "                (  \\\n",
    "                   SELECT user_id \\\n",
    "                          , name \\\n",
    "                          , sum(distance) as total\\\n",
    "                          , RANK() OVER (ORDER BY sum(distance)) as actualrank \\\n",
    "                    FROM tmpRidelog as log \\\n",
    "                    LEFT OUTER JOIN tmpUser as users \\\n",
    "                    ON log.user_id = users.id \\\n",
    "                    GROUP BY user_id, name ) as q \\\n",
    "                    WHERE q.actualrank <= 10\").show()"
   ]
  },
  {
   "cell_type": "code",
   "execution_count": 28,
   "id": "b40d4481-7dfc-4cfc-a8f1-2d11e092dc2b",
   "metadata": {},
   "outputs": [
    {
     "name": "stdout",
     "output_type": "stream",
     "text": [
      "+-------+-----------------+-----+\n",
      "|user_id|             name|total|\n",
      "+-------+-----------------+-----+\n",
      "|     47|  Christina Price|  328|\n",
      "|     34| Jennifer Simmons|  277|\n",
      "|     43|  Kimberly Potter|  275|\n",
      "|      8|Patrick Gutierrez|  243|\n",
      "|     25|     Crystal Berg|  239|\n",
      "|     14|  Keith Perez DVM|  214|\n",
      "|     32|    Stacy Collins|  210|\n",
      "|     11|Jeffery Hernandez|  206|\n",
      "|      9|   Dennis Douglas|  206|\n",
      "|     17| Alexander Howell|  205|\n",
      "+-------+-----------------+-----+\n",
      "\n"
     ]
    }
   ],
   "source": [
    "sqlContext.sql(\"SELECT q.user_id, q.name, q.total \\\n",
    "                FROM  \\\n",
    "                (  \\\n",
    "                   SELECT user_id \\\n",
    "                          , name \\\n",
    "                          , sum(distance) as total\\\n",
    "                          , RANK() OVER (ORDER BY sum(distance) DESC) as actualrank \\\n",
    "                    FROM tmpRidelog as log \\\n",
    "                    LEFT OUTER JOIN tmpUser as users \\\n",
    "                    ON log.user_id = users.id \\\n",
    "                    GROUP BY user_id, name ) as q \\\n",
    "                    WHERE q.actualrank <= 10\").show()"
   ]
  }
 ],
 "metadata": {
  "kernelspec": {
   "display_name": "Python 3 (ipykernel)",
   "language": "python",
   "name": "python3"
  },
  "language_info": {
   "codemirror_mode": {
    "name": "ipython",
    "version": 3
   },
   "file_extension": ".py",
   "mimetype": "text/x-python",
   "name": "python",
   "nbconvert_exporter": "python",
   "pygments_lexer": "ipython3",
   "version": "3.8.13"
  }
 },
 "nbformat": 4,
 "nbformat_minor": 5
}
