{
 "cells": [
  {
   "cell_type": "markdown",
   "id": "3a51c7bc-a588-4d9e-bb74-a26148c92900",
   "metadata": {},
   "source": [
    "Problem Statement \n",
    "\n",
    "# Problems 0 -> Employee Salary more than \n",
    "\n",
    "We have a table with employees and their salaries. Write Queries to solve below problems\n",
    "1. List all the meployees whoes salary is more than 100K\n",
    "2. Provide distinct department id \n",
    "3. Provide first and last name of employees \n",
    "4. Provide all the details with the employees whose last name is 'Johnson'\n",
    "\n",
    "We will solve problems two ways\n",
    "\n",
    "First using PySpark function\n",
    "Second using Spark SQL"
   ]
  },
  {
   "cell_type": "code",
   "execution_count": 1,
   "id": "ea22d710-40f5-4b64-803e-83c583aa3472",
   "metadata": {},
   "outputs": [],
   "source": [
    "# First Load all the required library and also Start Spark Session\n",
    "# Load all the required library\n",
    "from pyspark.sql import SparkSession"
   ]
  },
  {
   "cell_type": "code",
   "execution_count": 2,
   "id": "368cc9c2-6f26-4d6b-93ff-d9ee7541869c",
   "metadata": {},
   "outputs": [
    {
     "name": "stderr",
     "output_type": "stream",
     "text": [
      "WARNING: An illegal reflective access operation has occurred\n",
      "WARNING: Illegal reflective access by org.apache.spark.unsafe.Platform (file:/opt/spark/jars/spark-unsafe_2.12-3.2.1.jar) to constructor java.nio.DirectByteBuffer(long,int)\n",
      "WARNING: Please consider reporting this to the maintainers of org.apache.spark.unsafe.Platform\n",
      "WARNING: Use --illegal-access=warn to enable warnings of further illegal reflective access operations\n",
      "WARNING: All illegal access operations will be denied in a future release\n",
      "Using Spark's default log4j profile: org/apache/spark/log4j-defaults.properties\n",
      "Setting default log level to \"WARN\".\n",
      "To adjust logging level use sc.setLogLevel(newLevel). For SparkR, use setLogLevel(newLevel).\n",
      "23/02/04 09:56:33 WARN NativeCodeLoader: Unable to load native-hadoop library for your platform... using builtin-java classes where applicable\n",
      "23/02/04 09:56:35 WARN Utils: Service 'SparkUI' could not bind on port 4040. Attempting port 4041.\n"
     ]
    }
   ],
   "source": [
    "#Start Spark Session\n",
    "spark = SparkSession.builder.appName(\"problem0\").getOrCreate()\n",
    "sqlContext = SparkSession(spark)\n",
    "#Dont Show warning only error\n",
    "spark.sparkContext.setLogLevel(\"ERROR\")"
   ]
  },
  {
   "cell_type": "code",
   "execution_count": 4,
   "id": "aad8fd73-3ae0-4bfc-b429-bbb7b34ec39e",
   "metadata": {},
   "outputs": [
    {
     "name": "stderr",
     "output_type": "stream",
     "text": [
      "                                                                                \r"
     ]
    }
   ],
   "source": [
    "#Load CSV file into DataFrame\n",
    "employeedf = spark.read.format(\"csv\").option(\"header\",\"true\").option(\"inferSchema\",\"true\").load(\"employee_salay.csv\")"
   ]
  },
  {
   "cell_type": "code",
   "execution_count": 5,
   "id": "af0fcbe3-02b6-41b2-8b0f-bc6fbf8ad371",
   "metadata": {},
   "outputs": [
    {
     "name": "stdout",
     "output_type": "stream",
     "text": [
      "root\n",
      " |-- id: integer (nullable = true)\n",
      " |-- first_name: string (nullable = true)\n",
      " |-- last_name: string (nullable = true)\n",
      " |-- salary: integer (nullable = true)\n",
      " |-- department_id: integer (nullable = true)\n",
      "\n"
     ]
    }
   ],
   "source": [
    "#Checking dataframe schema\n",
    "employeedf.printSchema()"
   ]
  },
  {
   "cell_type": "code",
   "execution_count": 6,
   "id": "7d10d913-67e9-43c3-a538-9ea8d23ab2dc",
   "metadata": {},
   "outputs": [
    {
     "name": "stdout",
     "output_type": "stream",
     "text": [
      "+---+----------+---------+------+-------------+\n",
      "| id|first_name|last_name|salary|department_id|\n",
      "+---+----------+---------+------+-------------+\n",
      "| 45|     Kevin|   Duncan| 45210|         1003|\n",
      "| 25|    Pamela| Matthews| 57944|         1005|\n",
      "| 48|    Robert|    Lynch|117960|         1004|\n",
      "| 34|    Justin|     Dunn| 67992|         1003|\n",
      "| 62|      Dale|    Hayes| 97662|         1005|\n",
      "|  1|      Todd|   Wilson|110000|         1006|\n",
      "| 61|      Ryan|    Brown|120000|         1003|\n",
      "| 21|   Stephen|    Berry|123617|         1002|\n",
      "| 13|     Julie|  Sanchez|210000|         1001|\n",
      "| 55|   Michael|   Morris|106799|         1005|\n",
      "| 44|    Trevor|   Carter| 38670|         1001|\n",
      "| 73|   William|  Preston|155225|         1003|\n",
      "| 39|     Linda|    Clark|186781|         1002|\n",
      "| 10|      Sean| Crawford|190000|         1006|\n",
      "| 30|   Stephen|    Smith|194791|         1001|\n",
      "| 75|     Julia|    Ramos|105000|         1006|\n",
      "| 59|     Kevin| Robinson|100924|         1005|\n",
      "| 69|    Ernest| Peterson|115993|         1005|\n",
      "| 65|   Deborah|   Martin| 67389|         1004|\n",
      "| 63|   Richard|  Sanford|136083|         1001|\n",
      "+---+----------+---------+------+-------------+\n",
      "only showing top 20 rows\n",
      "\n"
     ]
    }
   ],
   "source": [
    "#Check data in dataframe\n",
    "employeedf.show()"
   ]
  },
  {
   "cell_type": "code",
   "execution_count": 8,
   "id": "5469cee1-cd71-42f1-8b83-08c908ccd1f5",
   "metadata": {},
   "outputs": [
    {
     "name": "stdout",
     "output_type": "stream",
     "text": [
      "+---+----------+---------+------+-------------+\n",
      "| id|first_name|last_name|salary|department_id|\n",
      "+---+----------+---------+------+-------------+\n",
      "| 48|    Robert|    Lynch|117960|         1004|\n",
      "|  1|      Todd|   Wilson|110000|         1006|\n",
      "| 61|      Ryan|    Brown|120000|         1003|\n",
      "| 21|   Stephen|    Berry|123617|         1002|\n",
      "| 13|     Julie|  Sanchez|210000|         1001|\n",
      "| 55|   Michael|   Morris|106799|         1005|\n",
      "| 73|   William|  Preston|155225|         1003|\n",
      "| 39|     Linda|    Clark|186781|         1002|\n",
      "| 10|      Sean| Crawford|190000|         1006|\n",
      "| 30|   Stephen|    Smith|194791|         1001|\n",
      "| 75|     Julia|    Ramos|105000|         1006|\n",
      "| 59|     Kevin| Robinson|100924|         1005|\n",
      "| 69|    Ernest| Peterson|115993|         1005|\n",
      "| 63|   Richard|  Sanford|136083|         1001|\n",
      "| 11|     Kevin| Townsend|166861|         1002|\n",
      "| 16|    Briana|    Rivas|151668|         1005|\n",
      "| 38|    Nicole|    Lewis|114079|         1001|\n",
      "| 42|     Traci| Williams|180000|         1003|\n",
      "| 26|   Allison|  Johnson|128782|         1001|\n",
      "| 74|   Richard|     Cole|180361|         1003|\n",
      "| 23|    Angela| Williams|100875|         1004|\n",
      "| 64|  Danielle| Williams|120000|         1006|\n",
      "|  9|   Christy| Mitchell|150000|         1001|\n",
      "| 20|      Cody| Gonzalez|112809|         1004|\n",
      "| 57|  Patricia|   Harmon|147417|         1005|\n",
      "| 24|   William|   Flores|142674|         1003|\n",
      "| 60|   Charles|  Pearson|173317|         1004|\n",
      "| 12|    Joshua|  Johnson|123082|         1004|\n",
      "| 40|   Colleen| Carrillo|147723|         1004|\n",
      "| 70|     Karen|Fernandez|101238|         1003|\n",
      "|  4|  Patricia|   Powell|170000|         1004|\n",
      "| 22|  Brittany|    Scott|162537|         1002|\n",
      "| 67|     Tyler|    Green|111085|         1002|\n",
      "| 52|      Kara|    Smith|192838|         1004|\n",
      "| 56|   Rachael| Williams|103585|         1002|\n",
      "| 50|  Victoria|   Wilson|176620|         1002|\n",
      "| 14|      John|  Coleman|152434|         1001|\n",
      "| 72| Christine|     Frye|137244|         1004|\n",
      "|  2|    Justin|    Simon|130000|         1005|\n",
      "+---+----------+---------+------+-------------+\n",
      "\n"
     ]
    }
   ],
   "source": [
    "# First, we are solving all the problems using PySpark functions\n",
    "#1. List all the meployees whoes salary is more than 100K\n",
    "employeedf.filter(\"salary > 100000\").show(n=100)"
   ]
  },
  {
   "cell_type": "code",
   "execution_count": 9,
   "id": "caae3012-99da-4cd2-b5bd-ed5e92e1e24b",
   "metadata": {},
   "outputs": [
    {
     "name": "stdout",
     "output_type": "stream",
     "text": [
      "+---+----------+---------+------+-------------+\n",
      "| id|first_name|last_name|salary|department_id|\n",
      "+---+----------+---------+------+-------------+\n",
      "| 48|    Robert|    Lynch|117960|         1004|\n",
      "|  1|      Todd|   Wilson|110000|         1006|\n",
      "| 61|      Ryan|    Brown|120000|         1003|\n",
      "| 21|   Stephen|    Berry|123617|         1002|\n",
      "| 13|     Julie|  Sanchez|210000|         1001|\n",
      "| 55|   Michael|   Morris|106799|         1005|\n",
      "| 73|   William|  Preston|155225|         1003|\n",
      "| 39|     Linda|    Clark|186781|         1002|\n",
      "| 10|      Sean| Crawford|190000|         1006|\n",
      "| 30|   Stephen|    Smith|194791|         1001|\n",
      "| 75|     Julia|    Ramos|105000|         1006|\n",
      "| 59|     Kevin| Robinson|100924|         1005|\n",
      "| 69|    Ernest| Peterson|115993|         1005|\n",
      "| 63|   Richard|  Sanford|136083|         1001|\n",
      "| 11|     Kevin| Townsend|166861|         1002|\n",
      "| 16|    Briana|    Rivas|151668|         1005|\n",
      "| 38|    Nicole|    Lewis|114079|         1001|\n",
      "| 42|     Traci| Williams|180000|         1003|\n",
      "| 26|   Allison|  Johnson|128782|         1001|\n",
      "| 74|   Richard|     Cole|180361|         1003|\n",
      "| 23|    Angela| Williams|100875|         1004|\n",
      "| 64|  Danielle| Williams|120000|         1006|\n",
      "|  9|   Christy| Mitchell|150000|         1001|\n",
      "| 20|      Cody| Gonzalez|112809|         1004|\n",
      "| 57|  Patricia|   Harmon|147417|         1005|\n",
      "| 24|   William|   Flores|142674|         1003|\n",
      "| 60|   Charles|  Pearson|173317|         1004|\n",
      "| 12|    Joshua|  Johnson|123082|         1004|\n",
      "| 40|   Colleen| Carrillo|147723|         1004|\n",
      "| 70|     Karen|Fernandez|101238|         1003|\n",
      "|  4|  Patricia|   Powell|170000|         1004|\n",
      "| 22|  Brittany|    Scott|162537|         1002|\n",
      "| 67|     Tyler|    Green|111085|         1002|\n",
      "| 52|      Kara|    Smith|192838|         1004|\n",
      "| 56|   Rachael| Williams|103585|         1002|\n",
      "| 50|  Victoria|   Wilson|176620|         1002|\n",
      "| 14|      John|  Coleman|152434|         1001|\n",
      "| 72| Christine|     Frye|137244|         1004|\n",
      "|  2|    Justin|    Simon|130000|         1005|\n",
      "+---+----------+---------+------+-------------+\n",
      "\n"
     ]
    }
   ],
   "source": [
    "# Or , we can also use as below \n",
    "employeedf.where(\"salary > 100000\").show(n=100)"
   ]
  },
  {
   "cell_type": "code",
   "execution_count": 11,
   "id": "82c56b87-8b0b-4ca9-95a0-37b949c4b416",
   "metadata": {},
   "outputs": [
    {
     "name": "stderr",
     "output_type": "stream",
     "text": [
      "[Stage 7:>                                                          (0 + 1) / 1]\r"
     ]
    },
    {
     "name": "stdout",
     "output_type": "stream",
     "text": [
      "+-------------+\n",
      "|department_id|\n",
      "+-------------+\n",
      "|         1005|\n",
      "|         1002|\n",
      "|         1001|\n",
      "|         1006|\n",
      "|         1003|\n",
      "|         1004|\n",
      "+-------------+\n",
      "\n"
     ]
    },
    {
     "name": "stderr",
     "output_type": "stream",
     "text": [
      "                                                                                \r"
     ]
    }
   ],
   "source": [
    "# 2. Provide distinct department id \n",
    "employeedf.select(\"department_id\").distinct().show()"
   ]
  },
  {
   "cell_type": "code",
   "execution_count": 14,
   "id": "050cf938-7b2c-4107-bbc9-4fa991083832",
   "metadata": {},
   "outputs": [
    {
     "name": "stdout",
     "output_type": "stream",
     "text": [
      "+----------+---------+\n",
      "|first_name|last_name|\n",
      "+----------+---------+\n",
      "|     Kevin|   Duncan|\n",
      "|    Pamela| Matthews|\n",
      "|    Robert|    Lynch|\n",
      "|    Justin|     Dunn|\n",
      "|      Dale|    Hayes|\n",
      "|      Todd|   Wilson|\n",
      "|      Ryan|    Brown|\n",
      "|   Stephen|    Berry|\n",
      "|     Julie|  Sanchez|\n",
      "|   Michael|   Morris|\n",
      "|    Trevor|   Carter|\n",
      "|   William|  Preston|\n",
      "|     Linda|    Clark|\n",
      "|      Sean| Crawford|\n",
      "|   Stephen|    Smith|\n",
      "|     Julia|    Ramos|\n",
      "|     Kevin| Robinson|\n",
      "|    Ernest| Peterson|\n",
      "|   Deborah|   Martin|\n",
      "|   Richard|  Sanford|\n",
      "|     Jason|    Olsen|\n",
      "|     Kevin| Townsend|\n",
      "|    Joseph|   Rogers|\n",
      "|      Eric|Zimmerman|\n",
      "|   Natasha|  Swanson|\n",
      "|     Kelly|  Rosario|\n",
      "|    Briana|    Rivas|\n",
      "|    Nicole|    Lewis|\n",
      "|     Traci| Williams|\n",
      "|     Amber|  Harding|\n",
      "|   Allison|  Johnson|\n",
      "|   Richard|     Cole|\n",
      "|    Angela| Williams|\n",
      "|   Michael|   Ramsey|\n",
      "|    Alexis|     Beck|\n",
      "|  Danielle| Williams|\n",
      "|   Theresa|  Everett|\n",
      "|    Edward|    Sharp|\n",
      "|     Jesus|     Ward|\n",
      "|    Sherry|   Golden|\n",
      "|   Christy| Mitchell|\n",
      "|      John|     Ball|\n",
      "|    Wesley|   Tucker|\n",
      "|      Cody| Gonzalez|\n",
      "|  Patricia|   Harmon|\n",
      "|   William|   Flores|\n",
      "|   Charles|  Pearson|\n",
      "|     Jason|  Burnett|\n",
      "|     Diane|   Gordon|\n",
      "|   Anthony|   Valdez|\n",
      "|      John|   George|\n",
      "|  Kristine|    Casey|\n",
      "|    Joshua|  Johnson|\n",
      "|   Antonio|Carpenter|\n",
      "|  Kimberly|     Dean|\n",
      "|    Philip|Gillespie|\n",
      "|  Kimberly|   Brooks|\n",
      "|   Anthony|     Ball|\n",
      "|   Colleen| Carrillo|\n",
      "|     Karen|Fernandez|\n",
      "|  Patricia|   Powell|\n",
      "|  Brittany|    Scott|\n",
      "|  Mercedes|Rodriguez|\n",
      "|     Tyler|    Green|\n",
      "|      Kara|    Smith|\n",
      "|    Joshua|    Ewing|\n",
      "|   Jeffrey|   Harris|\n",
      "|   Rachael| Williams|\n",
      "|  Victoria|   Wilson|\n",
      "|      John|  Coleman|\n",
      "| Christine|     Frye|\n",
      "|    Justin|    Simon|\n",
      "|    Teresa|    Cohen|\n",
      "|    Dustin|     Bush|\n",
      "|     Peter|     Holt|\n",
      "+----------+---------+\n",
      "\n"
     ]
    }
   ],
   "source": [
    "# 3. Provide first and last name of employees \n",
    "employeedf.select(\"first_name\",\"last_name\").show(n=100)"
   ]
  },
  {
   "cell_type": "code",
   "execution_count": 15,
   "id": "2f53d84e-d9ce-46dd-9f21-fcde0cffe5ad",
   "metadata": {},
   "outputs": [
    {
     "name": "stdout",
     "output_type": "stream",
     "text": [
      "+---+----------+---------+------+-------------+\n",
      "| id|first_name|last_name|salary|department_id|\n",
      "+---+----------+---------+------+-------------+\n",
      "| 26|   Allison|  Johnson|128782|         1001|\n",
      "| 12|    Joshua|  Johnson|123082|         1004|\n",
      "+---+----------+---------+------+-------------+\n",
      "\n"
     ]
    }
   ],
   "source": [
    "# 4. Provide all the details with the employees whose last name is 'Johnson'\n",
    "employeedf.filter(\"last_name == 'Johnson'\").show()"
   ]
  },
  {
   "cell_type": "code",
   "execution_count": 17,
   "id": "d0341849-a4e7-4446-971d-fe398dcbe95f",
   "metadata": {},
   "outputs": [
    {
     "name": "stdout",
     "output_type": "stream",
     "text": [
      "+---+----------+---------+------+-------------+\n",
      "| id|first_name|last_name|salary|department_id|\n",
      "+---+----------+---------+------+-------------+\n",
      "| 45|     Kevin|   Duncan| 45210|         1003|\n",
      "| 25|    Pamela| Matthews| 57944|         1005|\n",
      "| 48|    Robert|    Lynch|117960|         1004|\n",
      "| 34|    Justin|     Dunn| 67992|         1003|\n",
      "| 62|      Dale|    Hayes| 97662|         1005|\n",
      "|  1|      Todd|   Wilson|110000|         1006|\n",
      "| 61|      Ryan|    Brown|120000|         1003|\n",
      "| 21|   Stephen|    Berry|123617|         1002|\n",
      "| 13|     Julie|  Sanchez|210000|         1001|\n",
      "| 55|   Michael|   Morris|106799|         1005|\n",
      "| 44|    Trevor|   Carter| 38670|         1001|\n",
      "| 73|   William|  Preston|155225|         1003|\n",
      "| 39|     Linda|    Clark|186781|         1002|\n",
      "| 10|      Sean| Crawford|190000|         1006|\n",
      "| 30|   Stephen|    Smith|194791|         1001|\n",
      "| 75|     Julia|    Ramos|105000|         1006|\n",
      "| 59|     Kevin| Robinson|100924|         1005|\n",
      "| 69|    Ernest| Peterson|115993|         1005|\n",
      "| 65|   Deborah|   Martin| 67389|         1004|\n",
      "| 63|   Richard|  Sanford|136083|         1001|\n",
      "+---+----------+---------+------+-------------+\n",
      "only showing top 20 rows\n",
      "\n"
     ]
    }
   ],
   "source": [
    "#Now, we will solve all the problems using Spark SQL \n",
    "#For that first we will create Hive / Temp tables in Spark \n",
    "employeedf.createOrReplaceTempView(\"tmpEmployee\")\n",
    "sqlContext.sql(\"SELECT * FROM tmpEmployee\").show()"
   ]
  },
  {
   "cell_type": "code",
   "execution_count": 18,
   "id": "2c78d2e9-8da9-4114-9176-61f5cb0cba54",
   "metadata": {},
   "outputs": [
    {
     "name": "stdout",
     "output_type": "stream",
     "text": [
      "+---+----------+---------+------+-------------+\n",
      "| id|first_name|last_name|salary|department_id|\n",
      "+---+----------+---------+------+-------------+\n",
      "| 48|    Robert|    Lynch|117960|         1004|\n",
      "|  1|      Todd|   Wilson|110000|         1006|\n",
      "| 61|      Ryan|    Brown|120000|         1003|\n",
      "| 21|   Stephen|    Berry|123617|         1002|\n",
      "| 13|     Julie|  Sanchez|210000|         1001|\n",
      "| 55|   Michael|   Morris|106799|         1005|\n",
      "| 73|   William|  Preston|155225|         1003|\n",
      "| 39|     Linda|    Clark|186781|         1002|\n",
      "| 10|      Sean| Crawford|190000|         1006|\n",
      "| 30|   Stephen|    Smith|194791|         1001|\n",
      "| 75|     Julia|    Ramos|105000|         1006|\n",
      "| 59|     Kevin| Robinson|100924|         1005|\n",
      "| 69|    Ernest| Peterson|115993|         1005|\n",
      "| 63|   Richard|  Sanford|136083|         1001|\n",
      "| 11|     Kevin| Townsend|166861|         1002|\n",
      "| 16|    Briana|    Rivas|151668|         1005|\n",
      "| 38|    Nicole|    Lewis|114079|         1001|\n",
      "| 42|     Traci| Williams|180000|         1003|\n",
      "| 26|   Allison|  Johnson|128782|         1001|\n",
      "| 74|   Richard|     Cole|180361|         1003|\n",
      "| 23|    Angela| Williams|100875|         1004|\n",
      "| 64|  Danielle| Williams|120000|         1006|\n",
      "|  9|   Christy| Mitchell|150000|         1001|\n",
      "| 20|      Cody| Gonzalez|112809|         1004|\n",
      "| 57|  Patricia|   Harmon|147417|         1005|\n",
      "| 24|   William|   Flores|142674|         1003|\n",
      "| 60|   Charles|  Pearson|173317|         1004|\n",
      "| 12|    Joshua|  Johnson|123082|         1004|\n",
      "| 40|   Colleen| Carrillo|147723|         1004|\n",
      "| 70|     Karen|Fernandez|101238|         1003|\n",
      "|  4|  Patricia|   Powell|170000|         1004|\n",
      "| 22|  Brittany|    Scott|162537|         1002|\n",
      "| 67|     Tyler|    Green|111085|         1002|\n",
      "| 52|      Kara|    Smith|192838|         1004|\n",
      "| 56|   Rachael| Williams|103585|         1002|\n",
      "| 50|  Victoria|   Wilson|176620|         1002|\n",
      "| 14|      John|  Coleman|152434|         1001|\n",
      "| 72| Christine|     Frye|137244|         1004|\n",
      "|  2|    Justin|    Simon|130000|         1005|\n",
      "+---+----------+---------+------+-------------+\n",
      "\n"
     ]
    }
   ],
   "source": [
    "#1. List all the meployees whoes salary is more than 100K\n",
    "sqlContext.sql(\"SELECT * FROM tmpEmployee where salary > 100000\").show(n=100)"
   ]
  },
  {
   "cell_type": "code",
   "execution_count": 20,
   "id": "add43a1b-3b7f-4d06-a6df-3374afd3c492",
   "metadata": {},
   "outputs": [
    {
     "name": "stdout",
     "output_type": "stream",
     "text": [
      "+-------------+\n",
      "|department_id|\n",
      "+-------------+\n",
      "|         1005|\n",
      "|         1002|\n",
      "|         1001|\n",
      "|         1006|\n",
      "|         1003|\n",
      "|         1004|\n",
      "+-------------+\n",
      "\n"
     ]
    }
   ],
   "source": [
    "#2. Provide distinct department id \n",
    "sqlContext.sql(\"SELECT DISTINCT department_id FROM tmpEmployee\").show(n=100)"
   ]
  },
  {
   "cell_type": "code",
   "execution_count": 21,
   "id": "0abca587-6b78-4be1-a6e7-c7ce7726c45f",
   "metadata": {},
   "outputs": [
    {
     "name": "stdout",
     "output_type": "stream",
     "text": [
      "+----------+---------+\n",
      "|first_name|last_name|\n",
      "+----------+---------+\n",
      "|     Kevin|   Duncan|\n",
      "|    Pamela| Matthews|\n",
      "|    Robert|    Lynch|\n",
      "|    Justin|     Dunn|\n",
      "|      Dale|    Hayes|\n",
      "|      Todd|   Wilson|\n",
      "|      Ryan|    Brown|\n",
      "|   Stephen|    Berry|\n",
      "|     Julie|  Sanchez|\n",
      "|   Michael|   Morris|\n",
      "|    Trevor|   Carter|\n",
      "|   William|  Preston|\n",
      "|     Linda|    Clark|\n",
      "|      Sean| Crawford|\n",
      "|   Stephen|    Smith|\n",
      "|     Julia|    Ramos|\n",
      "|     Kevin| Robinson|\n",
      "|    Ernest| Peterson|\n",
      "|   Deborah|   Martin|\n",
      "|   Richard|  Sanford|\n",
      "|     Jason|    Olsen|\n",
      "|     Kevin| Townsend|\n",
      "|    Joseph|   Rogers|\n",
      "|      Eric|Zimmerman|\n",
      "|   Natasha|  Swanson|\n",
      "|     Kelly|  Rosario|\n",
      "|    Briana|    Rivas|\n",
      "|    Nicole|    Lewis|\n",
      "|     Traci| Williams|\n",
      "|     Amber|  Harding|\n",
      "|   Allison|  Johnson|\n",
      "|   Richard|     Cole|\n",
      "|    Angela| Williams|\n",
      "|   Michael|   Ramsey|\n",
      "|    Alexis|     Beck|\n",
      "|  Danielle| Williams|\n",
      "|   Theresa|  Everett|\n",
      "|    Edward|    Sharp|\n",
      "|     Jesus|     Ward|\n",
      "|    Sherry|   Golden|\n",
      "|   Christy| Mitchell|\n",
      "|      John|     Ball|\n",
      "|    Wesley|   Tucker|\n",
      "|      Cody| Gonzalez|\n",
      "|  Patricia|   Harmon|\n",
      "|   William|   Flores|\n",
      "|   Charles|  Pearson|\n",
      "|     Jason|  Burnett|\n",
      "|     Diane|   Gordon|\n",
      "|   Anthony|   Valdez|\n",
      "|      John|   George|\n",
      "|  Kristine|    Casey|\n",
      "|    Joshua|  Johnson|\n",
      "|   Antonio|Carpenter|\n",
      "|  Kimberly|     Dean|\n",
      "|    Philip|Gillespie|\n",
      "|  Kimberly|   Brooks|\n",
      "|   Anthony|     Ball|\n",
      "|   Colleen| Carrillo|\n",
      "|     Karen|Fernandez|\n",
      "|  Patricia|   Powell|\n",
      "|  Brittany|    Scott|\n",
      "|  Mercedes|Rodriguez|\n",
      "|     Tyler|    Green|\n",
      "|      Kara|    Smith|\n",
      "|    Joshua|    Ewing|\n",
      "|   Jeffrey|   Harris|\n",
      "|   Rachael| Williams|\n",
      "|  Victoria|   Wilson|\n",
      "|      John|  Coleman|\n",
      "| Christine|     Frye|\n",
      "|    Justin|    Simon|\n",
      "|    Teresa|    Cohen|\n",
      "|    Dustin|     Bush|\n",
      "|     Peter|     Holt|\n",
      "+----------+---------+\n",
      "\n"
     ]
    }
   ],
   "source": [
    "#3. Provide first and last name of employees\n",
    "sqlContext.sql(\"SELECT first_name, last_name FROM tmpEmployee\").show(n=100)"
   ]
  },
  {
   "cell_type": "code",
   "execution_count": 22,
   "id": "4523d94c-5020-4a66-8e05-ffe3519f15cf",
   "metadata": {},
   "outputs": [
    {
     "name": "stdout",
     "output_type": "stream",
     "text": [
      "+---+----------+---------+------+-------------+\n",
      "| id|first_name|last_name|salary|department_id|\n",
      "+---+----------+---------+------+-------------+\n",
      "| 26|   Allison|  Johnson|128782|         1001|\n",
      "| 12|    Joshua|  Johnson|123082|         1004|\n",
      "+---+----------+---------+------+-------------+\n",
      "\n"
     ]
    }
   ],
   "source": [
    "#4. Provide all the details with the employees whose last name is 'Johnson'\n",
    "sqlContext.sql(\"SELECT * FROM tmpEmployee where last_name = 'Johnson'\").show(n=100)"
   ]
  },
  {
   "cell_type": "code",
   "execution_count": null,
   "id": "70a5ddb6-6e5a-4e76-91bb-08be9c93eac8",
   "metadata": {},
   "outputs": [],
   "source": []
  }
 ],
 "metadata": {
  "kernelspec": {
   "display_name": "Python 3 (ipykernel)",
   "language": "python",
   "name": "python3"
  },
  "language_info": {
   "codemirror_mode": {
    "name": "ipython",
    "version": 3
   },
   "file_extension": ".py",
   "mimetype": "text/x-python",
   "name": "python",
   "nbconvert_exporter": "python",
   "pygments_lexer": "ipython3",
   "version": "3.8.13"
  }
 },
 "nbformat": 4,
 "nbformat_minor": 5
}
